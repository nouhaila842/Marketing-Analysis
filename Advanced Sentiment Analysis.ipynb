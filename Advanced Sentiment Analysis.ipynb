{
 "cells": [
  {
   "cell_type": "code",
   "execution_count": 1,
   "id": "fa626039-e0e2-4383-b24c-ead29486965e",
   "metadata": {},
   "outputs": [],
   "source": [
    "# Importer les bibliothèques nécessaires\n",
    "import pandas as pd\n",
    "import pyodbc\n",
    "import nltk\n",
    "from nltk.sentiment.vader import SentimentIntensityAnalyzer"
   ]
  },
  {
   "cell_type": "code",
   "execution_count": 14,
   "id": "db3f506f-2827-493e-a8a1-fea8924f18ba",
   "metadata": {},
   "outputs": [
    {
     "name": "stderr",
     "output_type": "stream",
     "text": [
      "[nltk_data] Downloading package vader_lexicon to C:\\Users\\Nouhaila\n",
      "[nltk_data]     Chg\\AppData\\Roaming\\nltk_data...\n"
     ]
    },
    {
     "data": {
      "text/plain": [
       "True"
      ]
     },
     "execution_count": 14,
     "metadata": {},
     "output_type": "execute_result"
    }
   ],
   "source": [
    "# Télécharger le lexique VADER pour l'analyse de sentiment s'il n'est pas déjà présent\n",
    "#nltk.download('vader_lexicon')"
   ]
  },
  {
   "cell_type": "code",
   "execution_count": 10,
   "id": "f0b11851-db89-4224-8a0b-3c06270da1ce",
   "metadata": {},
   "outputs": [],
   "source": [
    "# Définir une fonction pour récupérer les données depuis une base de données SQL via une requête SQL\n",
    "def fetch_data_from_sql():\n",
    "    # Définir la chaîne de connexion avec les paramètres pour se connecter à la base de données\n",
    "    conn_str = (\n",
    "        \"Driver={SQL Server};\"  # Spécifie le driver pour SQL Server\n",
    "        \"Server=inspiron;\"  # Spécifie l'instance SQL Server\n",
    "        \"Database=Marketing;\"  # Spécifie le nom de la base de données\n",
    "        \"Trusted_Connection=yes;\"  # Utilise l'authentification Windows pour la connexion\n",
    "    )\n",
    "    # Établir la connexion à la base de données\n",
    "    conn = pyodbc.connect(conn_str)\n",
    "    \n",
    "    # Définir la requête SQL pour récupérer les données des avis clients\n",
    "    query = \"SELECT ReviewID, CustomerID, ProductID, ReviewDate, Rating, ReviewText FROM customer_reviews\"\n",
    "    \n",
    "    # Exécuter la requête et récupérer les données dans un DataFrame\n",
    "    df = pd.read_sql(query, conn)\n",
    "    \n",
    "    # Fermer la connexion pour libérer les ressources\n",
    "    conn.close()\n",
    "    \n",
    "    # Retourner les données récupérées sous forme de DataFrame\n",
    "    return df"
   ]
  },
  {
   "cell_type": "code",
   "execution_count": 11,
   "id": "8c00d59d-2641-4e4e-9358-4ac99319e524",
   "metadata": {},
   "outputs": [
    {
     "name": "stderr",
     "output_type": "stream",
     "text": [
      "C:\\Users\\Nouhaila Chg\\AppData\\Local\\Temp\\ipykernel_33400\\4265116639.py:17: UserWarning: pandas only supports SQLAlchemy connectable (engine/connection) or database string URI or sqlite3 DBAPI2 connection. Other DBAPI2 objects are not tested. Please consider using SQLAlchemy.\n",
      "  df = pd.read_sql(query, conn)\n"
     ]
    }
   ],
   "source": [
    "# Récupérer les données des avis clients depuis la base de données SQL\n",
    "customer_reviews_df = fetch_data_from_sql()"
   ]
  },
  {
   "cell_type": "code",
   "execution_count": 15,
   "id": "8b67e2ac-14ab-488c-a060-c50609f3d68a",
   "metadata": {},
   "outputs": [],
   "source": [
    "# Initialiser l'analyseur de sentiment VADER pour analyser les sentiments des données textuelles\n",
    "sia = SentimentIntensityAnalyzer()"
   ]
  },
  {
   "cell_type": "code",
   "execution_count": 16,
   "id": "1fc3fb2c-42ea-4256-9443-1d3482dc7963",
   "metadata": {},
   "outputs": [],
   "source": [
    "# Définir une fonction pour calculer les scores de sentiment à l'aide de VADER\n",
    "def calculate_sentiment(review):\n",
    "    # Obtenir les scores de sentiment pour le texte de l'avis\n",
    "    sentiment = sia.polarity_scores(review)\n",
    "    # Retourner le score composite, qui est un score normalisé entre -1 (le plus négatif) et 1 (le plus positif)\n",
    "    return sentiment['compound']"
   ]
  },
  {
   "cell_type": "code",
   "execution_count": 17,
   "id": "4f07d6a5-02f4-443b-bbe8-d6485f2488fa",
   "metadata": {},
   "outputs": [],
   "source": [
    "# Définir une fonction pour catégoriser les sentiments en utilisant à la fois le score de sentiment et la note de l'avis\n",
    "def categorize_sentiment(score, rating):\n",
    "    # Utiliser à la fois le score de sentiment du texte et la note numérique pour déterminer la catégorie de sentiment\n",
    "    if score > 0.05:  # Score de sentiment positif\n",
    "        if rating >= 4:\n",
    "            return 'Positive'  # Haute note et sentiment positif\n",
    "        elif rating == 3:\n",
    "            return 'Mixed Positive'  # Note neutre mais sentiment positif\n",
    "        else:\n",
    "            return 'Mixed Negative'  # Faible note mais sentiment positif\n",
    "    elif score < -0.05:  # Score de sentiment négatif\n",
    "        if rating <= 2:\n",
    "            return 'Negative'  # Faible note et sentiment négatif\n",
    "        elif rating == 3:\n",
    "            return 'Mixed Negative'  # Note neutre mais sentiment négatif\n",
    "        else:\n",
    "            return 'Mixed Positive'  # Haute note mais sentiment négatif\n",
    "    else:  # Score de sentiment neutre\n",
    "        if rating >= 4:\n",
    "            return 'Positive'  # Haute note avec sentiment neutre\n",
    "        elif rating <= 2:\n",
    "            return 'Negative'  # Faible note avec sentiment neutre\n",
    "        else:\n",
    "            return 'Neutral'  # Note neutre et sentiment neutre"
   ]
  },
  {
   "cell_type": "code",
   "execution_count": 18,
   "id": "46be2341-ebb4-474f-bf01-fe3807c5970c",
   "metadata": {},
   "outputs": [],
   "source": [
    "# Définir une fonction pour regrouper les scores de sentiment en plages de texte\n",
    "def sentiment_bucket(score):\n",
    "    if score >= 0.5:\n",
    "        return '0.5 to 1.0'  # Sentiment fortement positif\n",
    "    elif 0.0 <= score < 0.5:\n",
    "        return '0.0 to 0.49'  # Sentiment légèrement positif\n",
    "    elif -0.5 <= score < 0.0:\n",
    "        return '-0.49 to 0.0'  # Sentiment légèrement négatif\n",
    "    else:\n",
    "        return '-1.0 to -0.5'  # Sentiment fortement négatif"
   ]
  },
  {
   "cell_type": "code",
   "execution_count": 19,
   "id": "5c0cfcad-b270-48fa-9c93-2e402c235f08",
   "metadata": {},
   "outputs": [],
   "source": [
    "# Appliquer l'analyse de sentiment pour calculer les scores de sentiment pour chaque avis\n",
    "customer_reviews_df['SentimentScore'] = customer_reviews_df['ReviewText'].apply(calculate_sentiment)"
   ]
  },
  {
   "cell_type": "code",
   "execution_count": 20,
   "id": "88f2f4f4-de12-45fb-bc01-955f9833d136",
   "metadata": {},
   "outputs": [],
   "source": [
    "# Appliquer la catégorisation des sentiments en utilisant à la fois le texte et la note\n",
    "customer_reviews_df['SentimentCategory'] = customer_reviews_df.apply(\n",
    "    lambda row: categorize_sentiment(row['SentimentScore'], row['Rating']), axis=1)"
   ]
  },
  {
   "cell_type": "code",
   "execution_count": 21,
   "id": "2e22a7c2-40d5-4a5f-8b04-ae18f14b9271",
   "metadata": {},
   "outputs": [],
   "source": [
    "# Appliquer le regroupement des sentiments pour catégoriser les scores dans des plages définies\n",
    "customer_reviews_df['SentimentBucket'] = customer_reviews_df['SentimentScore'].apply(sentiment_bucket)"
   ]
  },
  {
   "cell_type": "code",
   "execution_count": 23,
   "id": "7de9a9a5-5ce5-4ee3-8b9e-dcf7337d48a3",
   "metadata": {},
   "outputs": [
    {
     "data": {
      "text/html": [
       "<div>\n",
       "<style scoped>\n",
       "    .dataframe tbody tr th:only-of-type {\n",
       "        vertical-align: middle;\n",
       "    }\n",
       "\n",
       "    .dataframe tbody tr th {\n",
       "        vertical-align: top;\n",
       "    }\n",
       "\n",
       "    .dataframe thead th {\n",
       "        text-align: right;\n",
       "    }\n",
       "</style>\n",
       "<table border=\"1\" class=\"dataframe\">\n",
       "  <thead>\n",
       "    <tr style=\"text-align: right;\">\n",
       "      <th></th>\n",
       "      <th>ReviewID</th>\n",
       "      <th>CustomerID</th>\n",
       "      <th>ProductID</th>\n",
       "      <th>ReviewDate</th>\n",
       "      <th>Rating</th>\n",
       "      <th>ReviewText</th>\n",
       "      <th>SentimentScore</th>\n",
       "      <th>SentimentCategory</th>\n",
       "      <th>SentimentBucket</th>\n",
       "    </tr>\n",
       "  </thead>\n",
       "  <tbody>\n",
       "    <tr>\n",
       "      <th>0</th>\n",
       "      <td>1</td>\n",
       "      <td>77</td>\n",
       "      <td>18</td>\n",
       "      <td>2023-12-23</td>\n",
       "      <td>3</td>\n",
       "      <td>Average  experience,  nothing  special.</td>\n",
       "      <td>-0.3089</td>\n",
       "      <td>Mixed Negative</td>\n",
       "      <td>-0.49 to 0.0</td>\n",
       "    </tr>\n",
       "    <tr>\n",
       "      <th>1</th>\n",
       "      <td>2</td>\n",
       "      <td>80</td>\n",
       "      <td>19</td>\n",
       "      <td>2024-12-25</td>\n",
       "      <td>5</td>\n",
       "      <td>The  quality  is    top-notch.</td>\n",
       "      <td>0.0000</td>\n",
       "      <td>Positive</td>\n",
       "      <td>0.0 to 0.49</td>\n",
       "    </tr>\n",
       "    <tr>\n",
       "      <th>2</th>\n",
       "      <td>3</td>\n",
       "      <td>50</td>\n",
       "      <td>13</td>\n",
       "      <td>2025-01-26</td>\n",
       "      <td>4</td>\n",
       "      <td>Five  stars  for  the  quick  delivery.</td>\n",
       "      <td>0.0000</td>\n",
       "      <td>Positive</td>\n",
       "      <td>0.0 to 0.49</td>\n",
       "    </tr>\n",
       "    <tr>\n",
       "      <th>3</th>\n",
       "      <td>4</td>\n",
       "      <td>78</td>\n",
       "      <td>15</td>\n",
       "      <td>2025-04-21</td>\n",
       "      <td>3</td>\n",
       "      <td>Good  quality,  but  could  be  cheaper.</td>\n",
       "      <td>0.2382</td>\n",
       "      <td>Mixed Positive</td>\n",
       "      <td>0.0 to 0.49</td>\n",
       "    </tr>\n",
       "    <tr>\n",
       "      <th>4</th>\n",
       "      <td>5</td>\n",
       "      <td>64</td>\n",
       "      <td>2</td>\n",
       "      <td>2023-07-16</td>\n",
       "      <td>3</td>\n",
       "      <td>Average  experience,  nothing  special.</td>\n",
       "      <td>-0.3089</td>\n",
       "      <td>Mixed Negative</td>\n",
       "      <td>-0.49 to 0.0</td>\n",
       "    </tr>\n",
       "  </tbody>\n",
       "</table>\n",
       "</div>"
      ],
      "text/plain": [
       "   ReviewID  CustomerID  ProductID  ReviewDate  Rating   \n",
       "0         1          77         18  2023-12-23       3  \\\n",
       "1         2          80         19  2024-12-25       5   \n",
       "2         3          50         13  2025-01-26       4   \n",
       "3         4          78         15  2025-04-21       3   \n",
       "4         5          64          2  2023-07-16       3   \n",
       "\n",
       "                                 ReviewText  SentimentScore SentimentCategory   \n",
       "0   Average  experience,  nothing  special.         -0.3089    Mixed Negative  \\\n",
       "1            The  quality  is    top-notch.          0.0000          Positive   \n",
       "2   Five  stars  for  the  quick  delivery.          0.0000          Positive   \n",
       "3  Good  quality,  but  could  be  cheaper.          0.2382    Mixed Positive   \n",
       "4   Average  experience,  nothing  special.         -0.3089    Mixed Negative   \n",
       "\n",
       "  SentimentBucket  \n",
       "0    -0.49 to 0.0  \n",
       "1     0.0 to 0.49  \n",
       "2     0.0 to 0.49  \n",
       "3     0.0 to 0.49  \n",
       "4    -0.49 to 0.0  "
      ]
     },
     "execution_count": 23,
     "metadata": {},
     "output_type": "execute_result"
    }
   ],
   "source": [
    "customer_reviews_df.head()"
   ]
  },
  {
   "cell_type": "code",
   "execution_count": 24,
   "id": "1d8d2826-e113-4d15-82cb-4cefad83a7ce",
   "metadata": {},
   "outputs": [],
   "source": [
    "# Enregistrer le DataFrame dans un fichier CSV\n",
    "customer_reviews_df.to_csv('fact_customerReviews_with_sentiment.csv', index=False)"
   ]
  },
  {
   "cell_type": "code",
   "execution_count": null,
   "id": "e121834b-404c-4deb-9211-eab83e8e6a11",
   "metadata": {},
   "outputs": [],
   "source": []
  }
 ],
 "metadata": {
  "kernelspec": {
   "display_name": "Python 3 (ipykernel)",
   "language": "python",
   "name": "python3"
  },
  "language_info": {
   "codemirror_mode": {
    "name": "ipython",
    "version": 3
   },
   "file_extension": ".py",
   "mimetype": "text/x-python",
   "name": "python",
   "nbconvert_exporter": "python",
   "pygments_lexer": "ipython3",
   "version": "3.11.7"
  }
 },
 "nbformat": 4,
 "nbformat_minor": 5
}
